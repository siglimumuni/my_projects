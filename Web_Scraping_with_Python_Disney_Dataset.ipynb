{
  "nbformat": 4,
  "nbformat_minor": 0,
  "metadata": {
    "colab": {
      "name": "Web Scraping with Python - Disney Dataset.ipynb",
      "provenance": [],
      "authorship_tag": "ABX9TyNjLN7IbQZcOo9c9og/0v5N",
      "include_colab_link": true
    },
    "kernelspec": {
      "name": "python3",
      "display_name": "Python 3"
    },
    "language_info": {
      "name": "python"
    }
  },
  "cells": [
    {
      "cell_type": "markdown",
      "metadata": {
        "id": "view-in-github",
        "colab_type": "text"
      },
      "source": [
        "<a href=\"https://colab.research.google.com/github/siglimumuni/my_projects/blob/master/Web_Scraping_with_Python_Disney_Dataset.ipynb\" target=\"_parent\"><img src=\"https://colab.research.google.com/assets/colab-badge.svg\" alt=\"Open In Colab\"/></a>"
      ]
    },
    {
      "cell_type": "code",
      "metadata": {
        "id": "POhZBMsirRvP"
      },
      "source": [
        "#Import all relevant libraries\n",
        "from bs4 import BeautifulSoup as bs\n",
        "import requests"
      ],
      "execution_count": null,
      "outputs": []
    },
    {
      "cell_type": "code",
      "metadata": {
        "id": "uHUlzWMiGfey"
      },
      "source": [
        "def getContentvalue(row_data):\n",
        "  #Retrieves content from the webpage\n",
        "  if row_data.find(\"li\"):\n",
        "    return [li.get_text(\" \",strip=True).replace(\"\\xa0\",\" \") for li in row_data.find_all(\"li\")]\n",
        "  elif row_data.find(\"br\"):\n",
        "    return [text for text in row_data.stripped_strings]\n",
        "  else:\n",
        "    return row_data.get_text(\" \",strip=True).replace(\"\\xa0\",\" \")\n",
        "\n",
        "def clean_tags(soup):\n",
        "  #Removes all the superscript tags and span tags for dates\n",
        "  for tag in soup.find_all([\"sup\",\"span\"]):\n",
        "    tag.decompose()\n",
        "\n",
        "def get_movie_info(url):\n",
        "  #Retrieves movie information from the info box on webpage\n",
        "  r = requests.get(url)\n",
        "\n",
        "  #convert into a beautiful soup object\n",
        "  soup = bs(r.content)\n",
        "\n",
        "  info_box = soup.find(class_=\"infobox vevent\")\n",
        "  info_rows = info_box.find_all(\"tr\")\n",
        "  \n",
        "  clean_tags(soup)\n",
        "\n",
        "  movie_info = {}\n",
        "\n",
        "  for index, row in enumerate(info_rows):\n",
        "    if index == 0:\n",
        "      movie_info[\"title\"] = row.find(\"th\").get_text(\" \",strip=True)\n",
        "    \n",
        "    else:\n",
        "      header = row.find(\"th\")\n",
        "      if header:\n",
        "        content_key = row.find(\"th\").get_text(\" \",strip=True)\n",
        "        content_value = getContentvalue(row.find(\"td\"))\n",
        "        movie_info[content_key] = content_value\n",
        "\n",
        "  return movie_info\n"
      ],
      "execution_count": null,
      "outputs": []
    },
    {
      "cell_type": "code",
      "metadata": {
        "colab": {
          "base_uri": "https://localhost:8080/"
        },
        "id": "yJYBP7aFjfDI",
        "outputId": "b8470049-2f0c-4a83-f4eb-dc6007e46764"
      },
      "source": [
        "#testing function on one movie\n",
        "get_movie_info(\"https://en.wikipedia.org/wiki/One_Little_Indian_(film)\")"
      ],
      "execution_count": null,
      "outputs": [
        {
          "output_type": "execute_result",
          "data": {
            "text/plain": [
              "{'Box office': '$2 million',\n",
              " 'Cinematography': 'Charles F. Wheeler',\n",
              " 'Country': 'United States',\n",
              " 'Directed by': 'Bernard McEveety',\n",
              " 'Distributed by': 'Buena Vista Distribution',\n",
              " 'Edited by': 'Robert Stafford',\n",
              " 'Language': 'English',\n",
              " 'Music by': 'Jerry Goldsmith',\n",
              " 'Produced by': 'Winston Hibler',\n",
              " 'Production company': 'Walt Disney Productions',\n",
              " 'Release date': ['June 20, 1973'],\n",
              " 'Running time': '90 Minutes',\n",
              " 'Starring': ['James Garner',\n",
              "  'Vera Miles',\n",
              "  'Pat Hingle',\n",
              "  'Morgan Woodward',\n",
              "  'Jodie Foster'],\n",
              " 'Written by': 'Harry Spalding',\n",
              " 'title': 'One Little Indian'}"
            ]
          },
          "metadata": {},
          "execution_count": 3
        }
      ]
    },
    {
      "cell_type": "code",
      "metadata": {
        "colab": {
          "base_uri": "https://localhost:8080/"
        },
        "id": "m4vdhjv4QU43",
        "outputId": "e7e7caac-5446-47d5-9ebd-d024ca5face3"
      },
      "source": [
        "#Get info for all movies\n",
        "r = requests.get(\"https://en.wikipedia.org/wiki/List_of_Walt_Disney_Pictures_films\")\n",
        "\n",
        "#Convert to a beautiful soup object\n",
        "soup = bs(r.content)\n",
        "\n",
        "movies = soup.select(\".wikitable.sortable i a\")\n",
        "print(len(movies))\n",
        "\n",
        "#Retrive information for all movies\n",
        "movie_info_list = []\n",
        "for index, movie in enumerate(movies):\n",
        "  try:\n",
        "    url_path = movie[\"href\"]\n",
        "    title = movie[\"title\"]\n",
        "\n",
        "    movie_info_list.append(get_movie_info(\"https://en.wikipedia.org/\" + url_path))\n",
        "    \n",
        "  except Exception as e:\n",
        "    print(movie.get_text())\n",
        "    print(e)"
      ],
      "execution_count": null,
      "outputs": [
        {
          "output_type": "stream",
          "name": "stdout",
          "text": [
            "454\n",
            "Zorro the Avenger\n",
            "'NoneType' object has no attribute 'find'\n",
            "The Sign of Zorro\n",
            "'NoneType' object has no attribute 'find'\n",
            "True-Life Adventures\n",
            "'NoneType' object has no attribute 'find_all'\n",
            "The London Connection\n",
            "'NoneType' object has no attribute 'find'\n",
            "Better Nate Than Never\n",
            "'NoneType' object has no attribute 'find_all'\n"
          ]
        }
      ]
    },
    {
      "cell_type": "code",
      "metadata": {
        "colab": {
          "base_uri": "https://localhost:8080/"
        },
        "id": "UgZcCqDNQksW",
        "outputId": "653a1ff4-c783-4a34-e90f-ec6b961767dd"
      },
      "source": [
        "#check how many movies have been retrieved\n",
        "len(movie_info_list)"
      ],
      "execution_count": null,
      "outputs": [
        {
          "output_type": "execute_result",
          "data": {
            "text/plain": [
              "449"
            ]
          },
          "metadata": {},
          "execution_count": 5
        }
      ]
    },
    {
      "cell_type": "code",
      "metadata": {
        "id": "d2WwErGxXG11"
      },
      "source": [
        "import json\n",
        "\n",
        "#function for saving info to a json file\n",
        "def save_data(title, data):\n",
        "  with open(title, 'w', encoding='utf-8') as f:\n",
        "    json.dump(data, f, ensure_ascii=False,indent=2)\n",
        "\n",
        "#function for loading saved json file\n",
        "def load_data(title):\n",
        "  with open(title, encoding='utf-8') as f:\n",
        "    return json.load(f)"
      ],
      "execution_count": null,
      "outputs": []
    },
    {
      "cell_type": "code",
      "metadata": {
        "id": "jW-f9kXnbjlP"
      },
      "source": [
        "save_data(\"disney_data_cleaned.json\", movie_info_list)"
      ],
      "execution_count": null,
      "outputs": []
    },
    {
      "cell_type": "code",
      "metadata": {
        "id": "bJdBcu3KYqQE"
      },
      "source": [
        "#convert move running time to integer\n",
        "def minutes_to_integer(running_time):\n",
        "  if running_time == \"N/A\":\n",
        "    return None\n",
        "  elif isinstance(running_time, list):\n",
        "    return int(running_time[0].split(\" \")[0])\n",
        "  return int(running_time.split(\" \")[0])\n",
        "\n",
        "for movie in movie_info_list:\n",
        "    movie[\"Running time (int)\"] = minutes_to_integer(movie.get(\"Running time\", \"N/A\"))"
      ],
      "execution_count": null,
      "outputs": []
    },
    {
      "cell_type": "code",
      "metadata": {
        "id": "THuFo7BDgzRj"
      },
      "source": [
        "#Using regular expressions to convert budget and box office fields to integers\n",
        "import re\n",
        "\n",
        "pattern = r\"\\d+(,\\d{3})*\\.*\\d*\"\n",
        "amounts = r\"thousand|million|billion\"\n",
        "\n",
        "word_re = rf\"\\${pattern}(-|\\sto\\s|–)?({pattern})?\\s({amounts})\"\n",
        "value_re = rf\"\\${pattern}\"\n",
        "\n",
        "#function to map words to integer value\n",
        "def word_to_value(word):\n",
        "  value_dict = {\"thousand\":1000, \"million\":1000000,\"billion\":1000000000}\n",
        "  return value_dict[word]\n",
        "\n",
        "#convert string values to integer\n",
        "def parse_word_syntax(string):\n",
        "  value_string = re.search(pattern,string).group()\n",
        "  value = float(value_string.replace(\",\",\"\"))\n",
        "  word = re.search(amounts,string,flags=re.I).group().lower()\n",
        "  word_value = word_to_value(word)\n",
        "  return value*word_value\n",
        "\n",
        "#convert digits to integer\n",
        "def parse_value_syntax(string):\n",
        "  value_string = re.search(pattern,string).group()\n",
        "  value = float(value_string.replace(\",\",\"\"))\n",
        "  return value\n",
        "\n",
        "#convert fields\n",
        "def convert_money(money):\n",
        "  if money == \"N/A\":\n",
        "    return None\n",
        "  \n",
        "  if isinstance(money,list):\n",
        "    money = money[0]\n",
        "\n",
        "  word_syntax = re.search(word_re,money,flags=re.I)\n",
        "  value_syntax = re.search(value_re,money)\n",
        "\n",
        "  if word_syntax:\n",
        "    return parse_word_syntax(word_syntax.group())\n",
        "\n",
        "  elif value_syntax:\n",
        "    return parse_value_syntax(value_syntax.group())\n",
        "\n",
        "  else:\n",
        "    return None\n"
      ],
      "execution_count": null,
      "outputs": []
    },
    {
      "cell_type": "code",
      "metadata": {
        "id": "ZoZWA-iAUHjI"
      },
      "source": [
        "#iterate through movie list to convert budgets and box office entries into an integer\n",
        "for movie in movie_info_list:\n",
        "  movie[\"Budget (float)\"] = convert_money(movie.get(\"Budget\",\"N/A\"))\n",
        "  movie[\"Box office (float)\"] = convert_money(movie.get(\"Box office\",\"N/A\"))"
      ],
      "execution_count": null,
      "outputs": []
    },
    {
      "cell_type": "code",
      "metadata": {
        "id": "J1eRrqGJrCQn"
      },
      "source": [
        "#convert date field to python datetime objects\n",
        "from datetime import datetime\n",
        "\n",
        "\n",
        "def clean_date(date):\n",
        "  return date.split(\"(\")[0].strip()\n",
        "\n",
        "def date_conversion(date):\n",
        "  if isinstance(date,list):\n",
        "    date = date[0]\n",
        "  \n",
        "  if date == \"N/A\":\n",
        "    return None\n",
        "\n",
        "  date_str = clean_date(date)\n",
        "  \n",
        "  fmts = ['%B %d, %Y','%d %B %Y']\n",
        "  for fmt in fmts:\n",
        "    try:\n",
        "      return datetime.strptime(date_str, fmt)\n",
        "    except:\n",
        "      pass\n",
        "  return None\n"
      ],
      "execution_count": null,
      "outputs": []
    },
    {
      "cell_type": "code",
      "metadata": {
        "id": "L_4frUQvoeu9"
      },
      "source": [
        "#iterate through the date fields and convert to python datetime objects\n",
        "for movie in movie_info_list:\n",
        "  movie[\"Release date (datetime)\"] = date_conversion(movie.get(\"Release date\",\"N/A\"))"
      ],
      "execution_count": null,
      "outputs": []
    },
    {
      "cell_type": "code",
      "metadata": {
        "id": "FKNBpVCYpW8c"
      },
      "source": [
        "import pickle\n",
        "\n",
        "#function for saving file to pickle format\n",
        "def save_data_pickle(name,data):\n",
        "  with open(name,'wb') as f:\n",
        "    pickle.dump(data, f)\n",
        "\n",
        "#function for loading saved pickle file\n",
        "def load_data_pickle(name):\n",
        "  with open(name, 'rb') as f:\n",
        "    return pickle.load(f)\n"
      ],
      "execution_count": null,
      "outputs": []
    },
    {
      "cell_type": "code",
      "metadata": {
        "id": "AWbD5IsXqp-2"
      },
      "source": [
        "save_data_pickle(\"disney_movie_data_cleaner.pickle\",movie_info_list)"
      ],
      "execution_count": null,
      "outputs": []
    },
    {
      "cell_type": "code",
      "metadata": {
        "id": "9yESMdn5rSuF"
      },
      "source": [
        "a = load_data_pickle(\"disney_movie_data_cleaner.pickle\")"
      ],
      "execution_count": null,
      "outputs": []
    },
    {
      "cell_type": "code",
      "metadata": {
        "id": "W6ZPGhLmrurX"
      },
      "source": [
        "#retrieve rotten tomatoes ratings from omdb database using an API key.\n",
        "import requests\n",
        "import urllib\n",
        "import os\n",
        "\n",
        "def get_omdb_info(title):\n",
        "  base_url = \"http://www.omdbapi.com/?\"\n",
        "  parameters = {\"apikey\":\"5da7ce82\",'t':title}\n",
        "  params_encoded = urllib.parse.urlencode(parameters)\n",
        "  full_url = base_url + params_encoded\n",
        "  return requests.get(full_url).json()\n",
        "\n",
        "get_omdb_info('into the woods')\n",
        "\n",
        "def get_rotten_tomato_score(omdb_info):\n",
        "  ratings = omdb_info.get('Ratings',[])\n",
        "  for rating in ratings:\n",
        "    if rating[\"Source\"] == \"Rotten Tomatoes\":\n",
        "      return rating[\"Value\"]\n",
        "  return None\n",
        "\n",
        "info = get_omdb_info('into the woods')\n",
        "get_rotten_tomato_score(info)\n"
      ],
      "execution_count": null,
      "outputs": []
    },
    {
      "cell_type": "code",
      "metadata": {
        "id": "UIJ7PRhUiY6u"
      },
      "source": [
        "#iterate through movies and add their respective rotten tomatoes ratings.\n",
        "for movie in movie_info_list:\n",
        "  title = movie[\"title\"]\n",
        "  omdb_info = get_omdb_info(title)\n",
        "  movie[\"imdb\"] = omdb_info.get('imdbRating',None)\n",
        "  movie['metascore'] = omdb_info.get('Metascore',None)\n",
        "  movie['rotten_tomatoes'] = get_rotten_tomato_score(omdb_info)"
      ],
      "execution_count": null,
      "outputs": []
    },
    {
      "cell_type": "code",
      "metadata": {
        "id": "eE_a1YL3mGIU"
      },
      "source": [
        "#converting the final list into a pandas dataframe\n",
        "import pandas as pd\n",
        "df = pd.DataFrame(movie_info_list)"
      ],
      "execution_count": null,
      "outputs": []
    },
    {
      "cell_type": "code",
      "metadata": {
        "colab": {
          "base_uri": "https://localhost:8080/",
          "height": 717
        },
        "id": "a5HaRoJ0mSMb",
        "outputId": "894c9297-605f-42fb-bbfd-3974c8986769"
      },
      "source": [
        "df.head()"
      ],
      "execution_count": null,
      "outputs": [
        {
          "output_type": "execute_result",
          "data": {
            "text/html": [
              "<div>\n",
              "<style scoped>\n",
              "    .dataframe tbody tr th:only-of-type {\n",
              "        vertical-align: middle;\n",
              "    }\n",
              "\n",
              "    .dataframe tbody tr th {\n",
              "        vertical-align: top;\n",
              "    }\n",
              "\n",
              "    .dataframe thead th {\n",
              "        text-align: right;\n",
              "    }\n",
              "</style>\n",
              "<table border=\"1\" class=\"dataframe\">\n",
              "  <thead>\n",
              "    <tr style=\"text-align: right;\">\n",
              "      <th></th>\n",
              "      <th>title</th>\n",
              "      <th>Production company</th>\n",
              "      <th>Release date</th>\n",
              "      <th>Running time</th>\n",
              "      <th>Country</th>\n",
              "      <th>Language</th>\n",
              "      <th>Box office</th>\n",
              "      <th>Running time (int)</th>\n",
              "      <th>Budget (float)</th>\n",
              "      <th>Box office (float)</th>\n",
              "      <th>Release date (datetime)</th>\n",
              "      <th>imdb</th>\n",
              "      <th>metascore</th>\n",
              "      <th>rotten_tomatoes</th>\n",
              "      <th>Directed by</th>\n",
              "      <th>Written by</th>\n",
              "      <th>Based on</th>\n",
              "      <th>Produced by</th>\n",
              "      <th>Starring</th>\n",
              "      <th>Music by</th>\n",
              "      <th>Distributed by</th>\n",
              "      <th>Budget</th>\n",
              "      <th>Story by</th>\n",
              "      <th>Narrated by</th>\n",
              "      <th>Cinematography</th>\n",
              "      <th>Edited by</th>\n",
              "      <th>Languages</th>\n",
              "      <th>Screenplay by</th>\n",
              "      <th>Countries</th>\n",
              "      <th>Production companies</th>\n",
              "      <th>Color process</th>\n",
              "      <th>Animation by</th>\n",
              "      <th>Japanese</th>\n",
              "      <th>Hepburn</th>\n",
              "      <th>Adaptation by</th>\n",
              "      <th>Traditional</th>\n",
              "      <th>Simplified</th>\n",
              "    </tr>\n",
              "  </thead>\n",
              "  <tbody>\n",
              "    <tr>\n",
              "      <th>0</th>\n",
              "      <td>Academy Award Review of</td>\n",
              "      <td>Walt Disney Productions</td>\n",
              "      <td>[May 19, 1937]</td>\n",
              "      <td>41 minutes (74 minutes 1966 release)</td>\n",
              "      <td>United States</td>\n",
              "      <td>English</td>\n",
              "      <td>$45.472</td>\n",
              "      <td>41.0</td>\n",
              "      <td>NaN</td>\n",
              "      <td>4.547200e+01</td>\n",
              "      <td>1937-05-19</td>\n",
              "      <td>7.0</td>\n",
              "      <td>N/A</td>\n",
              "      <td>None</td>\n",
              "      <td>NaN</td>\n",
              "      <td>NaN</td>\n",
              "      <td>NaN</td>\n",
              "      <td>NaN</td>\n",
              "      <td>NaN</td>\n",
              "      <td>NaN</td>\n",
              "      <td>NaN</td>\n",
              "      <td>NaN</td>\n",
              "      <td>NaN</td>\n",
              "      <td>NaN</td>\n",
              "      <td>NaN</td>\n",
              "      <td>NaN</td>\n",
              "      <td>NaN</td>\n",
              "      <td>NaN</td>\n",
              "      <td>NaN</td>\n",
              "      <td>NaN</td>\n",
              "      <td>NaN</td>\n",
              "      <td>NaN</td>\n",
              "      <td>NaN</td>\n",
              "      <td>NaN</td>\n",
              "      <td>NaN</td>\n",
              "      <td>NaN</td>\n",
              "      <td>NaN</td>\n",
              "    </tr>\n",
              "    <tr>\n",
              "      <th>1</th>\n",
              "      <td>Snow White and the Seven Dwarfs</td>\n",
              "      <td>Walt Disney Productions</td>\n",
              "      <td>[December 21, 1937 ( Carthay Circle Theatre )]</td>\n",
              "      <td>83 minutes</td>\n",
              "      <td>United States</td>\n",
              "      <td>English</td>\n",
              "      <td>$418 million</td>\n",
              "      <td>83.0</td>\n",
              "      <td>1490000.0</td>\n",
              "      <td>4.180000e+08</td>\n",
              "      <td>1937-12-21</td>\n",
              "      <td>7.6</td>\n",
              "      <td>95</td>\n",
              "      <td>None</td>\n",
              "      <td>[David Hand, William Cottrell, Wilfred Jackson...</td>\n",
              "      <td>[Ted Sears, Richard Creedon, Otto Englander, D...</td>\n",
              "      <td>[Snow White, by The, Brothers Grimm]</td>\n",
              "      <td>Walt Disney</td>\n",
              "      <td>[Adriana Caselotti, Lucille La Verne, Harry St...</td>\n",
              "      <td>[Frank Churchill, Paul Smith, Leigh Harline]</td>\n",
              "      <td>RKO Radio Pictures</td>\n",
              "      <td>$1.49 million</td>\n",
              "      <td>NaN</td>\n",
              "      <td>NaN</td>\n",
              "      <td>NaN</td>\n",
              "      <td>NaN</td>\n",
              "      <td>NaN</td>\n",
              "      <td>NaN</td>\n",
              "      <td>NaN</td>\n",
              "      <td>NaN</td>\n",
              "      <td>NaN</td>\n",
              "      <td>NaN</td>\n",
              "      <td>NaN</td>\n",
              "      <td>NaN</td>\n",
              "      <td>NaN</td>\n",
              "      <td>NaN</td>\n",
              "      <td>NaN</td>\n",
              "    </tr>\n",
              "    <tr>\n",
              "      <th>2</th>\n",
              "      <td>Pinocchio</td>\n",
              "      <td>Walt Disney Productions</td>\n",
              "      <td>[February 7, 1940 ( Center Theatre ), February...</td>\n",
              "      <td>88 minutes</td>\n",
              "      <td>United States</td>\n",
              "      <td>English</td>\n",
              "      <td>$164 million</td>\n",
              "      <td>88.0</td>\n",
              "      <td>2600000.0</td>\n",
              "      <td>1.640000e+08</td>\n",
              "      <td>1940-02-07</td>\n",
              "      <td>7.4</td>\n",
              "      <td>99</td>\n",
              "      <td>None</td>\n",
              "      <td>[Ben Sharpsteen, Hamilton Luske, Bill Roberts,...</td>\n",
              "      <td>NaN</td>\n",
              "      <td>[The Adventures of Pinocchio, by, Carlo Collodi]</td>\n",
              "      <td>Walt Disney</td>\n",
              "      <td>[Cliff Edwards, Dickie Jones, Christian Rub, W...</td>\n",
              "      <td>[Leigh Harline, Paul J. Smith]</td>\n",
              "      <td>RKO Radio Pictures</td>\n",
              "      <td>$2.6 million</td>\n",
              "      <td>[Ted Sears, Otto Englander, Webb Smith, Willia...</td>\n",
              "      <td>NaN</td>\n",
              "      <td>NaN</td>\n",
              "      <td>NaN</td>\n",
              "      <td>NaN</td>\n",
              "      <td>NaN</td>\n",
              "      <td>NaN</td>\n",
              "      <td>NaN</td>\n",
              "      <td>NaN</td>\n",
              "      <td>NaN</td>\n",
              "      <td>NaN</td>\n",
              "      <td>NaN</td>\n",
              "      <td>NaN</td>\n",
              "      <td>NaN</td>\n",
              "      <td>NaN</td>\n",
              "    </tr>\n",
              "    <tr>\n",
              "      <th>3</th>\n",
              "      <td>Fantasia</td>\n",
              "      <td>Walt Disney Productions</td>\n",
              "      <td>[November 13, 1940]</td>\n",
              "      <td>126 minutes</td>\n",
              "      <td>United States</td>\n",
              "      <td>English</td>\n",
              "      <td>$76.4–$83.3 million (United States and Canada)</td>\n",
              "      <td>126.0</td>\n",
              "      <td>2280000.0</td>\n",
              "      <td>8.330000e+07</td>\n",
              "      <td>1940-11-13</td>\n",
              "      <td>7.7</td>\n",
              "      <td>96</td>\n",
              "      <td>95%</td>\n",
              "      <td>[Samuel Armstrong, James Algar, Bill Roberts, ...</td>\n",
              "      <td>NaN</td>\n",
              "      <td>NaN</td>\n",
              "      <td>[Walt Disney, Ben Sharpsteen]</td>\n",
              "      <td>[Leopold Stokowski, Deems Taylor]</td>\n",
              "      <td>See program</td>\n",
              "      <td>RKO Radio Pictures</td>\n",
              "      <td>$2.28 million</td>\n",
              "      <td>[Joe Grant, Dick Huemer]</td>\n",
              "      <td>Deems Taylor</td>\n",
              "      <td>James Wong Howe</td>\n",
              "      <td>NaN</td>\n",
              "      <td>NaN</td>\n",
              "      <td>NaN</td>\n",
              "      <td>NaN</td>\n",
              "      <td>NaN</td>\n",
              "      <td>NaN</td>\n",
              "      <td>NaN</td>\n",
              "      <td>NaN</td>\n",
              "      <td>NaN</td>\n",
              "      <td>NaN</td>\n",
              "      <td>NaN</td>\n",
              "      <td>NaN</td>\n",
              "    </tr>\n",
              "    <tr>\n",
              "      <th>4</th>\n",
              "      <td>The Reluctant Dragon</td>\n",
              "      <td>Walt Disney Productions</td>\n",
              "      <td>[June 27, 1941]</td>\n",
              "      <td>74 minutes</td>\n",
              "      <td>United States</td>\n",
              "      <td>English</td>\n",
              "      <td>$960,000 (worldwide rentals)</td>\n",
              "      <td>74.0</td>\n",
              "      <td>600000.0</td>\n",
              "      <td>9.600000e+05</td>\n",
              "      <td>1941-06-27</td>\n",
              "      <td>6.9</td>\n",
              "      <td>N/A</td>\n",
              "      <td>None</td>\n",
              "      <td>[Alfred Werker, (live action), Hamilton Luske,...</td>\n",
              "      <td>[Live-action:, Ted Sears, Al Perkins, Larry Cl...</td>\n",
              "      <td>NaN</td>\n",
              "      <td>Walt Disney</td>\n",
              "      <td>[Robert Benchley, Frances Gifford, Buddy Peppe...</td>\n",
              "      <td>[Frank Churchill, Larry Morey]</td>\n",
              "      <td>RKO Radio Pictures</td>\n",
              "      <td>$600,000</td>\n",
              "      <td>NaN</td>\n",
              "      <td>NaN</td>\n",
              "      <td>Bert Glennon</td>\n",
              "      <td>Paul Weatherwax</td>\n",
              "      <td>NaN</td>\n",
              "      <td>NaN</td>\n",
              "      <td>NaN</td>\n",
              "      <td>NaN</td>\n",
              "      <td>NaN</td>\n",
              "      <td>NaN</td>\n",
              "      <td>NaN</td>\n",
              "      <td>NaN</td>\n",
              "      <td>NaN</td>\n",
              "      <td>NaN</td>\n",
              "      <td>NaN</td>\n",
              "    </tr>\n",
              "  </tbody>\n",
              "</table>\n",
              "</div>"
            ],
            "text/plain": [
              "                             title  ... Simplified\n",
              "0          Academy Award Review of  ...        NaN\n",
              "1  Snow White and the Seven Dwarfs  ...        NaN\n",
              "2                        Pinocchio  ...        NaN\n",
              "3                         Fantasia  ...        NaN\n",
              "4             The Reluctant Dragon  ...        NaN\n",
              "\n",
              "[5 rows x 37 columns]"
            ]
          },
          "metadata": {},
          "execution_count": 45
        }
      ]
    },
    {
      "cell_type": "code",
      "metadata": {
        "id": "O5d2ftJzmlvw"
      },
      "source": [
        ""
      ],
      "execution_count": null,
      "outputs": []
    }
  ]
}